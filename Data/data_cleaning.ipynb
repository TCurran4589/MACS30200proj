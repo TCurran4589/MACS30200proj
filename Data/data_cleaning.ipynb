{
  "cells": [
    {
      "cell_type": "code",
      "source": [
        "import pandas as pd\n",
        "import numpy as np\n",
        "from sklearn.preprocessing import Imputer, normalize"
      ],
      "outputs": [],
      "execution_count": 198,
      "metadata": {
        "collapsed": false,
        "outputHidden": false,
        "inputHidden": false
      }
    },
    {
      "cell_type": "code",
      "source": [
        "af = pd.read_csv(\"/Users/thomascurran/Desktop/MACS Final Project v2/AF_Data.csv\")\n",
        "descriptors = pd.read_csv(\"/Users/thomascurran/Desktop/MACS Final Project v2/Descriptors_Census.csv\")\n",
        "enrollment = pd.read_csv(\"/Users/thomascurran/Desktop/MACS Final Project v2/Enrollment.csv\")\n",
        "test_scores = pd.read_csv(\"/Users/thomascurran/Desktop/MACS Final Project v2/school_test_scores(14-16).csv\")"
      ],
      "outputs": [],
      "execution_count": 199,
      "metadata": {
        "collapsed": false,
        "outputHidden": false,
        "inputHidden": false
      }
    },
    {
      "cell_type": "code",
      "source": [
        "school_types = enrollment[['Year','SchoolCode','SchoolType']]\n",
        "df = af[['Year','SchoolCode','SchoolName','IndexScore']]"
      ],
      "outputs": [],
      "execution_count": 200,
      "metadata": {
        "collapsed": false,
        "outputHidden": false,
        "inputHidden": false
      }
    },
    {
      "cell_type": "code",
      "source": [
        "df2 = pd.merge(df, \n",
        "              descriptors, \n",
        "              on = [\"SchoolCode\", \"Year\"], \n",
        "              how = \"inner\").drop([\"Site\",\"DistrictCode\"],axis = 1)\n",
        "df2 = pd.merge(df2, school_types, on = [\"SchoolCode\",\"Year\"], how = \"inner\")\n",
        "df2.to_csv(\"/Users/thomascurran/Desktop/MACS Final Project v2/nn_df_descriptors.csv\")"
      ],
      "outputs": [],
      "execution_count": 201,
      "metadata": {
        "collapsed": false,
        "outputHidden": false,
        "inputHidden": false
      }
    },
    {
      "cell_type": "code",
      "source": [
        "df3 = pd.merge(\n",
        "    df2,\n",
        "    enrollment,\n",
        "    on = [\"SchoolCode\", \"Year\"],\n",
        "    how = \"inner\").drop([\"SchoolName_y\",\"SchoolType_y\"], axis = 1).rename(columns = {\"SchoolName_x\":\"SchoolName\",\"SchoolType_x\": \"SchoolType\"})\n",
        "\ndf3.to_csv(\"/Users/thomascurran/Desktop/MACS Final Project v2/nn_df_descriptors&enrollment.csv\")"
      ],
      "outputs": [],
      "execution_count": 202,
      "metadata": {
        "collapsed": false,
        "outputHidden": false,
        "inputHidden": false
      }
    },
    {
      "cell_type": "code",
      "source": [
        "df4 = pd.merge(\n",
        "    df3,\n",
        "    test_scores,\n",
        "    how = \"inner\",\n",
        "    on = [\"SchoolCode\",\"Year\"]\n",
        ").drop([\"Site\"], axis = 1)\n",
        "\ndf4.to_csv(\"/Users/thomascurran/Desktop/MACS Final Project v2/nn_df_descriptors&enrollment&testscores.csv\")"
      ],
      "outputs": [],
      "execution_count": 203,
      "metadata": {
        "collapsed": false,
        "outputHidden": false,
        "inputHidden": false
      }
    },
    {
      "cell_type": "code",
      "source": [
        "hs = df4[df4.SchoolType == \"High School\"]\n",
        "hs = hs.drop(\"SchoolType\", axis = 1)\n",
        "es = df4[df4.SchoolType == 'Elementary School']\n",
        "es = es.drop(\"SchoolType\", axis = 1)\n",
        "ms = df4[df4.SchoolType == 'Middle School']\n",
        "ms = ms.drop(\"SchoolType\", axis = 1)"
      ],
      "outputs": [],
      "execution_count": 204,
      "metadata": {
        "collapsed": false,
        "outputHidden": false,
        "inputHidden": false
      }
    },
    {
      "cell_type": "code",
      "source": [
        "def cols_to_drop(df):\n",
        "    \n",
        "    #array of columns to drop\n",
        "    dropped_cols = []\n",
        "    \n",
        "    #check to see if column is completely null if the number of nulls is greater than or equal to the length of the index\n",
        "    for i, c in enumerate(df):\n",
        "        if((df[c].isna().sum()/len(df.index)) > .50):\n",
        "            dropped_cols.append(c)\n",
        "         \n",
        "    #drop the columns from the data frame\n",
        "    df = df.drop(dropped_cols, axis = 1)\n",
        "    return(df)"
      ],
      "outputs": [],
      "execution_count": 205,
      "metadata": {
        "collapsed": false,
        "outputHidden": false,
        "inputHidden": false
      }
    },
    {
      "cell_type": "code",
      "source": [
        "es = cols_to_drop(es)\n",
        "es.to_csv(\"/Users/thomascurran/Desktop/MACS Final Project v2/es.csv\")\n",
        "\n",
        "ms = cols_to_drop(ms)\n",
        "ms.to_csv(\"/Users/thomascurran/Desktop/MACS Final Project v2/ms.csv\")\n",
        "\n",
        "hs = cols_to_drop(hs)\n",
        "hs.to_csv(\"/Users/thomascurran/Desktop/MACS Final Project v2/hs.csv\")"
      ],
      "outputs": [],
      "execution_count": 206,
      "metadata": {
        "collapsed": false,
        "outputHidden": false,
        "inputHidden": false
      }
    },
    {
      "cell_type": "code",
      "source": [
        "\n#len(ms.columns)"
      ],
      "outputs": [
        {
          "output_type": "execute_result",
          "execution_count": 231,
          "data": {
            "text/plain": [
              "      Year SchoolCode                     SchoolName  IndexScore  AvgIncome  \\\n",
              "622   2016  09I034510  LESLIE F ROBLYER LEARNING CTR        73.0   60315.50   \n",
              "696   2016  16I001530     CACHE 5TH AND 6TH GRADE MS        85.0   93637.81   \n",
              "1032  2016  72I011515           OWASSO 6TH GRADE CTR        87.0   84896.09   \n",
              "1231  2016  08I167505           FORT COBB-BROXTON MS        74.0   51494.01   \n",
              "1234  2016  09I022510                    PIEDMONT MS        91.0   96974.43   \n",
              "\n",
              "      AvgPropValADM  Unemployment  PovertyRate  SingleParentFam    FRL  \\\n",
              "622        24895.16          0.07         0.14             0.37  0.790   \n",
              "696        61263.07          0.07         0.11             0.26  0.495   \n",
              "1032       52132.65          0.05         0.06             0.21  0.324   \n",
              "1231       25787.81          0.07         0.17             0.31  0.712   \n",
              "1234       43118.98          0.03         0.04             0.16  0.205   \n",
              "\n",
              "                ...             8_Math_Satisfactory  8_Reading_Advanced  \\\n",
              "622             ...                        0.498473            0.149484   \n",
              "696             ...                        0.498473            0.149484   \n",
              "1032            ...                        0.498473            0.149484   \n",
              "1231            ...                        0.465000            0.193200   \n",
              "1234            ...                        0.356000            0.332500   \n",
              "\n",
              "      8_Reading_Below_Satisfactory  8_Reading_Satisfactory  \\\n",
              "622                       0.166129                0.684388   \n",
              "696                       0.166129                0.684388   \n",
              "1032                      0.166129                0.684388   \n",
              "1231                      0.080000                0.726800   \n",
              "1234                      0.050000                0.617500   \n",
              "\n",
              "      8_Science_Advanced  8_Science_Below_Satisfactory  \\\n",
              "622             0.115825                      0.403876   \n",
              "696             0.115825                      0.403876   \n",
              "1032            0.115825                      0.403876   \n",
              "1231            0.107100                      0.370000   \n",
              "1234            0.400200                      0.130000   \n",
              "\n",
              "      8_Science_Satisfactory  EOI_Algebra_Advanced  \\\n",
              "622                 0.480299              0.542743   \n",
              "696                 0.480299              0.542743   \n",
              "1032                0.480299              0.542743   \n",
              "1231                0.522900              0.360000   \n",
              "1234                0.469800              1.000000   \n",
              "\n",
              "      EOI_Algebra_Below_Satisfactory  EOI_Algebra_Satisfactory  \n",
              "622                         0.054739                  0.402518  \n",
              "696                         0.054739                  0.402518  \n",
              "1032                        0.054739                  0.402518  \n",
              "1231                        0.100000                  0.540000  \n",
              "1234                        0.000000                  0.000000  \n",
              "\n[5 rows x 57 columns]"
            ],
            "text/html": [
              "<div>\n",
              "<style scoped>\n",
              "    .dataframe tbody tr th:only-of-type {\n",
              "        vertical-align: middle;\n",
              "    }\n",
              "\n",
              "    .dataframe tbody tr th {\n",
              "        vertical-align: top;\n",
              "    }\n",
              "\n",
              "    .dataframe thead th {\n",
              "        text-align: right;\n",
              "    }\n",
              "</style>\n",
              "<table border=\"1\" class=\"dataframe\">\n",
              "  <thead>\n",
              "    <tr style=\"text-align: right;\">\n",
              "      <th></th>\n",
              "      <th>Year</th>\n",
              "      <th>SchoolCode</th>\n",
              "      <th>SchoolName</th>\n",
              "      <th>IndexScore</th>\n",
              "      <th>AvgIncome</th>\n",
              "      <th>AvgPropValADM</th>\n",
              "      <th>Unemployment</th>\n",
              "      <th>PovertyRate</th>\n",
              "      <th>SingleParentFam</th>\n",
              "      <th>FRL</th>\n",
              "      <th>...</th>\n",
              "      <th>8_Math_Satisfactory</th>\n",
              "      <th>8_Reading_Advanced</th>\n",
              "      <th>8_Reading_Below_Satisfactory</th>\n",
              "      <th>8_Reading_Satisfactory</th>\n",
              "      <th>8_Science_Advanced</th>\n",
              "      <th>8_Science_Below_Satisfactory</th>\n",
              "      <th>8_Science_Satisfactory</th>\n",
              "      <th>EOI_Algebra_Advanced</th>\n",
              "      <th>EOI_Algebra_Below_Satisfactory</th>\n",
              "      <th>EOI_Algebra_Satisfactory</th>\n",
              "    </tr>\n",
              "  </thead>\n",
              "  <tbody>\n",
              "    <tr>\n",
              "      <th>622</th>\n",
              "      <td>2016</td>\n",
              "      <td>09I034510</td>\n",
              "      <td>LESLIE F ROBLYER LEARNING CTR</td>\n",
              "      <td>73.0</td>\n",
              "      <td>60315.50</td>\n",
              "      <td>24895.16</td>\n",
              "      <td>0.07</td>\n",
              "      <td>0.14</td>\n",
              "      <td>0.37</td>\n",
              "      <td>0.790</td>\n",
              "      <td>...</td>\n",
              "      <td>0.498473</td>\n",
              "      <td>0.149484</td>\n",
              "      <td>0.166129</td>\n",
              "      <td>0.684388</td>\n",
              "      <td>0.115825</td>\n",
              "      <td>0.403876</td>\n",
              "      <td>0.480299</td>\n",
              "      <td>0.542743</td>\n",
              "      <td>0.054739</td>\n",
              "      <td>0.402518</td>\n",
              "    </tr>\n",
              "    <tr>\n",
              "      <th>696</th>\n",
              "      <td>2016</td>\n",
              "      <td>16I001530</td>\n",
              "      <td>CACHE 5TH AND 6TH GRADE MS</td>\n",
              "      <td>85.0</td>\n",
              "      <td>93637.81</td>\n",
              "      <td>61263.07</td>\n",
              "      <td>0.07</td>\n",
              "      <td>0.11</td>\n",
              "      <td>0.26</td>\n",
              "      <td>0.495</td>\n",
              "      <td>...</td>\n",
              "      <td>0.498473</td>\n",
              "      <td>0.149484</td>\n",
              "      <td>0.166129</td>\n",
              "      <td>0.684388</td>\n",
              "      <td>0.115825</td>\n",
              "      <td>0.403876</td>\n",
              "      <td>0.480299</td>\n",
              "      <td>0.542743</td>\n",
              "      <td>0.054739</td>\n",
              "      <td>0.402518</td>\n",
              "    </tr>\n",
              "    <tr>\n",
              "      <th>1032</th>\n",
              "      <td>2016</td>\n",
              "      <td>72I011515</td>\n",
              "      <td>OWASSO 6TH GRADE CTR</td>\n",
              "      <td>87.0</td>\n",
              "      <td>84896.09</td>\n",
              "      <td>52132.65</td>\n",
              "      <td>0.05</td>\n",
              "      <td>0.06</td>\n",
              "      <td>0.21</td>\n",
              "      <td>0.324</td>\n",
              "      <td>...</td>\n",
              "      <td>0.498473</td>\n",
              "      <td>0.149484</td>\n",
              "      <td>0.166129</td>\n",
              "      <td>0.684388</td>\n",
              "      <td>0.115825</td>\n",
              "      <td>0.403876</td>\n",
              "      <td>0.480299</td>\n",
              "      <td>0.542743</td>\n",
              "      <td>0.054739</td>\n",
              "      <td>0.402518</td>\n",
              "    </tr>\n",
              "    <tr>\n",
              "      <th>1231</th>\n",
              "      <td>2016</td>\n",
              "      <td>08I167505</td>\n",
              "      <td>FORT COBB-BROXTON MS</td>\n",
              "      <td>74.0</td>\n",
              "      <td>51494.01</td>\n",
              "      <td>25787.81</td>\n",
              "      <td>0.07</td>\n",
              "      <td>0.17</td>\n",
              "      <td>0.31</td>\n",
              "      <td>0.712</td>\n",
              "      <td>...</td>\n",
              "      <td>0.465000</td>\n",
              "      <td>0.193200</td>\n",
              "      <td>0.080000</td>\n",
              "      <td>0.726800</td>\n",
              "      <td>0.107100</td>\n",
              "      <td>0.370000</td>\n",
              "      <td>0.522900</td>\n",
              "      <td>0.360000</td>\n",
              "      <td>0.100000</td>\n",
              "      <td>0.540000</td>\n",
              "    </tr>\n",
              "    <tr>\n",
              "      <th>1234</th>\n",
              "      <td>2016</td>\n",
              "      <td>09I022510</td>\n",
              "      <td>PIEDMONT MS</td>\n",
              "      <td>91.0</td>\n",
              "      <td>96974.43</td>\n",
              "      <td>43118.98</td>\n",
              "      <td>0.03</td>\n",
              "      <td>0.04</td>\n",
              "      <td>0.16</td>\n",
              "      <td>0.205</td>\n",
              "      <td>...</td>\n",
              "      <td>0.356000</td>\n",
              "      <td>0.332500</td>\n",
              "      <td>0.050000</td>\n",
              "      <td>0.617500</td>\n",
              "      <td>0.400200</td>\n",
              "      <td>0.130000</td>\n",
              "      <td>0.469800</td>\n",
              "      <td>1.000000</td>\n",
              "      <td>0.000000</td>\n",
              "      <td>0.000000</td>\n",
              "    </tr>\n",
              "  </tbody>\n",
              "</table>\n",
              "<p>5 rows × 57 columns</p>\n",
              "</div>"
            ]
          },
          "metadata": {}
        }
      ],
      "execution_count": 231,
      "metadata": {
        "collapsed": false,
        "outputHidden": false,
        "inputHidden": false
      }
    },
    {
      "cell_type": "code",
      "source": [
        "imputer = Imputer()\n",
        "ms.iloc[:,3:58] = imputer.fit_transform(ms.iloc[:,3:58])\n",
        "hs.iloc[:, 3:52] = imputer.fit_transform(hs.iloc[:,3:52])\n",
        "es.iloc[:, 3:55] = imputer.fit_transform(es.iloc[:,3:55])\n",
        "ms.to_csv(\"/Users/thomascurran/Desktop/MACS Final Project v2/ms_clean.csv\")\n",
        "es.to_csv(\"/Users/thomascurran/Desktop/MACS Final Project v2/es_clean.csv\")\n",
        "hs.to_csv(\"/Users/thomascurran/Desktop/MACS Final Project v2/hs_clean.csv\")"
      ],
      "outputs": [],
      "execution_count": 225,
      "metadata": {
        "collapsed": false,
        "outputHidden": false,
        "inputHidden": false
      }
    },
    {
      "cell_type": "code",
      "source": [
        "ms_test = ms.copy()\n",
        "#hs_test = hs_test.drop([\"SchoolName\",\"SchoolCode\",\"Year\"], axis = 1)\n",
        "ms_test.iloc[:,3:len(ms.columns)] = normalize(ms_test.iloc[:,3:len(ms.columns)])"
      ],
      "outputs": [],
      "execution_count": 239,
      "metadata": {
        "collapsed": false,
        "outputHidden": false,
        "inputHidden": false
      }
    },
    {
      "cell_type": "code",
      "source": [
        "ms_test.to_csv(\"/Users/thomascurran/Desktop/MACS Final Project v2/ms_test_normalize.csv\")"
      ],
      "outputs": [],
      "execution_count": 241,
      "metadata": {
        "collapsed": false,
        "outputHidden": false,
        "inputHidden": false
      }
    },
    {
      "cell_type": "code",
      "source": [],
      "outputs": [],
      "execution_count": 215,
      "metadata": {
        "collapsed": false,
        "outputHidden": false,
        "inputHidden": false
      }
    },
    {
      "cell_type": "code",
      "source": [],
      "outputs": [],
      "execution_count": null,
      "metadata": {
        "collapsed": false,
        "outputHidden": false,
        "inputHidden": false
      }
    }
  ],
  "metadata": {
    "kernel_info": {
      "name": "python3"
    },
    "kernelspec": {
      "name": "python3",
      "language": "python",
      "display_name": "Python 3"
    },
    "language_info": {
      "name": "python",
      "version": "3.6.1",
      "mimetype": "text/x-python",
      "codemirror_mode": {
        "name": "ipython",
        "version": 3
      },
      "pygments_lexer": "ipython3",
      "nbconvert_exporter": "python",
      "file_extension": ".py"
    },
    "nteract": {
      "version": "0.8.4"
    }
  },
  "nbformat": 4,
  "nbformat_minor": 4
}