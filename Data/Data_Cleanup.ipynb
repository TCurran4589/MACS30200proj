{
 "cells": [
  {
   "cell_type": "code",
   "execution_count": 33,
   "metadata": {
    "collapsed": true
   },
   "outputs": [],
   "source": [
    "import pandas as pd\n",
    "import matplotlib.pyplot as plt\n",
    "import numpy as np\n",
    "from sklearn.preprocessing import Imputer\n",
    "from scipy.stats import mode\n",
    "%config IPCompleter.greedy=True"
   ]
  },
  {
   "cell_type": "code",
   "execution_count": 34,
   "metadata": {
    "collapsed": true
   },
   "outputs": [],
   "source": [
    "af_data = pd.read_csv(\"final_project_data/AF_data.csv\")\n",
    "\n",
    "descriptor = pd.read_csv(\"final_project_data/Descriptors_Census.csv\").rename(columns = {'Yr':'Year'})\n",
    "\n",
    "enrollment = pd.read_csv(\"final_project_data/Enrollment.csv\")\n",
    "\n",
    "test_scores = pd.read_csv(\"final_project_data/school_test_scores(14-16).csv\")"
   ]
  },
  {
   "cell_type": "code",
   "execution_count": 35,
   "metadata": {
    "collapsed": true
   },
   "outputs": [],
   "source": [
    "af_data_append = af_data.drop(['LowGrade','HighGrade','ReportCardType','CountyName', 'DistrictName', 'SchoolName','IndexScore', \n",
    "                               'LetteGrade', 'LetterGradeGroup',\"IndexScore.1\",\"School_Level\",\n",
    "                               'LetteGrade.1'], axis = 1)"
   ]
  },
  {
   "cell_type": "code",
   "execution_count": 36,
   "metadata": {
    "collapsed": true
   },
   "outputs": [],
   "source": [
    "af_data = af_data[['Year',\n",
    "                   'CountyName',\n",
    "                   'DistrictName',\n",
    "                   'SchoolName',\n",
    "                   'SchoolCode',\n",
    "                   'IndexScore',\n",
    "                   'LetteGrade'\n",
    "                  ]]\n",
    "af_data = af_data[af_data.LetteGrade.isna() != True]"
   ]
  },
  {
   "cell_type": "code",
   "execution_count": 37,
   "metadata": {
    "collapsed": true
   },
   "outputs": [],
   "source": [
    "full_df = pd.merge(af_data, descriptor, how = \"left\", on = ['SchoolCode', 'Year']).rename(columns = {\"LetteGrade\":\"LetterGrade\"})"
   ]
  },
  {
   "cell_type": "code",
   "execution_count": 38,
   "metadata": {
    "collapsed": true
   },
   "outputs": [],
   "source": [
    "full_df = full_df[full_df.AvgIncome.isna() != True]\n",
    "full_df.to_csv(\"test_full.csv\")"
   ]
  },
  {
   "cell_type": "code",
   "execution_count": 39,
   "metadata": {
    "collapsed": true
   },
   "outputs": [],
   "source": [
    "full_df = pd.merge(full_df, enrollment, how = 'left', on=['SchoolCode','Year']).drop('SchoolName_y', axis = 1)\n",
    "\n",
    "full_df.to_csv(\"test2full.csv\")\n"
   ]
  },
  {
   "cell_type": "code",
   "execution_count": 40,
   "metadata": {
    "collapsed": true
   },
   "outputs": [],
   "source": [
    "full_df = pd.merge(full_df, test_scores, on =['SchoolCode','Year'],how = 'left').drop(['Site_y','Site_x'], axis = 1)\n",
    "\n",
    "full_df.to_csv(\"test3full.csv\")"
   ]
  },
  {
   "cell_type": "code",
   "execution_count": 41,
   "metadata": {
    "collapsed": true,
    "scrolled": false
   },
   "outputs": [],
   "source": [
    "full_df = full_df.rename(columns = {\"SchoolName_x\":\"SchoolName\"})\n",
    "\n",
    "full_df = pd.merge(full_df, af_data_append, how = 'left', on=['SchoolCode','Year'])\n",
    "    \n",
    "full_df.to_csv(\"test4full.csv\")"
   ]
  },
  {
   "cell_type": "code",
   "execution_count": 42,
   "metadata": {
    "collapsed": true
   },
   "outputs": [],
   "source": [
    "#for i in range(0,len(full_df.columns)):\n",
    "#    print(full_df.columns[i])\n",
    "\n",
    "def LetterGradeGroup(IndexScore):\n",
    "    if IndexScore >= 80 and IndexScore <=89:\n",
    "        LetterGradeGroup = \"B\"\n",
    "    elif (IndexScore >= 70 and IndexScore <=79):\n",
    "        LetterGradeGroup = \"C\"\n",
    "    elif (IndexScore >= 60 and IndexScore <=69):\n",
    "        LetterGradeGroup = \"D\"\n",
    "    elif (IndexScore >= 90):\n",
    "        LetterGradeGroup = \"A\"\n",
    "    elif (IndexScore < 60):\n",
    "        LetterGradeGroup = \"F\"\n",
    "    return(LetterGradeGroup)\n",
    "\n",
    "#for i in range(0, len(full_df.IndexScore)):\n",
    "#    IndexScore =full_df.IndexScore[i]\n",
    "#    print(LetterGradeGroup(IndexScore))\n",
    "\n",
    "full_df['LetterGradeGroup'] = full_df.IndexScore.apply(LetterGradeGroup)\n",
    "full_df.to_csv(\"test3full.csv\")"
   ]
  },
  {
   "cell_type": "code",
   "execution_count": 43,
   "metadata": {},
   "outputs": [],
   "source": [
    "full_df.to_csv(\"full_df.csv\")\n"
   ]
  },
  {
   "cell_type": "code",
   "execution_count": 44,
   "metadata": {
    "collapsed": true
   },
   "outputs": [],
   "source": [
    "middle_school = full_df[full_df.SchoolType == 'Middle School']"
   ]
  },
  {
   "cell_type": "code",
   "execution_count": 45,
   "metadata": {
    "collapsed": true
   },
   "outputs": [],
   "source": [
    "elementary_school = full_df[full_df.SchoolType == 'Elementary School']\n",
    "high_school = full_df[full_df.SchoolType == 'High School']"
   ]
  },
  {
   "cell_type": "code",
   "execution_count": 46,
   "metadata": {
    "collapsed": true
   },
   "outputs": [],
   "source": [
    "middle_school.to_csv(\"Middle School Data.csv\")\n",
    "elementary_school.to_csv(\"Elementary School Data.csv\")\n",
    "high_school.to_csv(\"High School Data.csv\")"
   ]
  },
  {
   "cell_type": "code",
   "execution_count": 47,
   "metadata": {},
   "outputs": [
    {
     "data": {
      "text/plain": [
       "890"
      ]
     },
     "execution_count": 47,
     "metadata": {},
     "output_type": "execute_result"
    }
   ],
   "source": [
    "len(middle_school.index)"
   ]
  },
  {
   "cell_type": "code",
   "execution_count": 48,
   "metadata": {},
   "outputs": [
    {
     "data": {
      "text/plain": [
       "2918"
      ]
     },
     "execution_count": 48,
     "metadata": {},
     "output_type": "execute_result"
    }
   ],
   "source": [
    "len(elementary_school.index)"
   ]
  },
  {
   "cell_type": "code",
   "execution_count": 49,
   "metadata": {},
   "outputs": [
    {
     "data": {
      "text/plain": [
       "1355"
      ]
     },
     "execution_count": 49,
     "metadata": {},
     "output_type": "execute_result"
    }
   ],
   "source": [
    "len(high_school.index)"
   ]
  },
  {
   "cell_type": "code",
   "execution_count": 50,
   "metadata": {},
   "outputs": [],
   "source": [
    "drop_cols_hs =np.array(range(26,93))\n",
    "test = high_school.drop(high_school.columns[drop_cols_hs], axis = 1)\n",
    "\n",
    "\n",
    "test.drop(['OverallLetterGrade','Math_LetterGrade',\n",
    "          'Science_LetterGrade','Writing_LetterGrade',\n",
    "           'SocialStudies_LetterGrade',\n",
    "           'OverallLetterGrade_bq',\n",
    "           'Math_LetterGrade_bq',\n",
    "           'ELA_LetterGradeas_bq','AttendenceRate_Bonus','Overall_LetterGrade', 'ELA_LetterGrade'], axis = 1, inplace = True)\n"
   ]
  },
  {
   "cell_type": "code",
   "execution_count": 51,
   "metadata": {
    "collapsed": true
   },
   "outputs": [],
   "source": [
    "high_school2 = test.copy()\n",
    "\n",
    "test_impute = Imputer(missing_values = 'NaN',\n",
    "                      strategy = 'mean',\n",
    "                      axis = 0\n",
    "                     )\n",
    "\n",
    "#test2 = list(test_impute.fit(np.array([high_school2.EOI_Algebra_Below_Satisfactory])).transform(np.array([test.EOI_Algebra_Below_Satisfactory])))"
   ]
  },
  {
   "cell_type": "code",
   "execution_count": 52,
   "metadata": {
    "scrolled": false
   },
   "outputs": [],
   "source": [
    "for i in range(26, len(high_school2.columns)-1):\n",
    "    #print(high_school2.columns[i])\n",
    "    col = high_school2[high_school2.columns[i]]\n",
    "    high_school2[high_school2.columns[i]] = test_impute.fit_transform(high_school2.iloc[:,i].values.reshape(-1,1))\n"
   ]
  },
  {
   "cell_type": "code",
   "execution_count": 53,
   "metadata": {},
   "outputs": [],
   "source": [
    "middle_school2 = middle_school.copy()\n",
    "\n",
    "drop_cols_ms =np.array(range(92,113))\n",
    "drop_cols_ms2 =np.array(range(34,63))\n",
    "\n",
    "middle_school2 = middle_school2.drop(middle_school2.columns[drop_cols_ms], axis = 1)\n",
    "middle_school2 = middle_school2.drop(middle_school2.columns[drop_cols_ms2], axis = 1)\n",
    "\n",
    "middle_school2.drop(['OverallLetterGrade','Math_LetterGrade',\n",
    "                     'AP_participationIndex',\n",
    "                     'AP_PerformanceIndex',\n",
    "                     'AP_Bonus',\n",
    "          'Science_LetterGrade','Writing_LetterGrade',\n",
    "           'SocialStudies_LetterGrade',\n",
    "           'OverallLetterGrade_bq',\n",
    "           'Math_LetterGrade_bq',\n",
    "           'ELA_LetterGradeas_bq','CollegeEntranceExam_Participation',\n",
    "                     'GradRate','GradRate_Bonus',\n",
    "                     'AttendenceRate_Bonus','Overall_LetterGrade', 'ELA_LetterGrade'], axis = 1, inplace = True)\n",
    "\n",
    "\n"
   ]
  },
  {
   "cell_type": "code",
   "execution_count": 99,
   "metadata": {
    "scrolled": false
   },
   "outputs": [],
   "source": [
    "for i in range(34, len(middle_school2.columns)-1):\n",
    "    #print(middle_school2.columns[i])\n",
    "    col = middle_school2[middle_school2.columns[i]]\n",
    "    middle_school2[middle_school2.columns[i]] = test_impute.fit_transform(middle_school2.iloc[:,i].values.reshape(-1,1))\n"
   ]
  },
  {
   "cell_type": "code",
   "execution_count": 55,
   "metadata": {},
   "outputs": [],
   "source": [
    "elementary_school2 = elementary_school.copy()\n",
    "\n",
    "drop_cols_ms =np.array(range(62,113))\n",
    "\n",
    "elementary_school2 = elementary_school2.drop(elementary_school2.columns[drop_cols_ms], axis = 1)\n",
    "\n",
    "elementary_school2.drop(['OverallLetterGrade','Math_LetterGrade',\n",
    "                     'AP_participationIndex',\n",
    "                     'AP_PerformanceIndex',\n",
    "                     'AP_Bonus',\n",
    "                         'DropOutRate_Bonus','DropOutRate',\n",
    "          'Science_LetterGrade','Writing_LetterGrade',\n",
    "           'SocialStudies_LetterGrade',\n",
    "           'OverallLetterGrade_bq',\n",
    "           'Math_LetterGrade_bq',\n",
    "           'ELA_LetterGradeas_bq','CollegeEntranceExam_Participation',\n",
    "                     'GradRate','GradRate_Bonus',\n",
    "                     'AttendenceRate_Bonus','Overall_LetterGrade', 'ELA_LetterGrade'], inplace = True, axis = 1)\n"
   ]
  },
  {
   "cell_type": "code",
   "execution_count": 56,
   "metadata": {
    "scrolled": false
   },
   "outputs": [],
   "source": [
    "for i in range(36, len(elementary_school2.columns)-1):\n",
    "    #print(elementary_school2.columns[i])\n",
    "    col = elementary_school2[elementary_school2.columns[i]]\n",
    "    elementary_school2[elementary_school2.columns[i]] = test_impute.fit_transform(elementary_school2.iloc[:,i].values.reshape(-1,1))\n"
   ]
  },
  {
   "cell_type": "code",
   "execution_count": 58,
   "metadata": {},
   "outputs": [],
   "source": [
    "elementary_school2.to_csv(\"es_raw.csv\")\n",
    "high_school2.to_csv(\"hs_raw.csv\")\n",
    "middle_school2.to_csv(\"ms_raw.csv\")"
   ]
  },
  {
   "cell_type": "code",
   "execution_count": 25,
   "metadata": {},
   "outputs": [
    {
     "name": "stderr",
     "output_type": "stream",
     "text": [
      "/Users/thomascurran/anaconda/lib/python3.6/site-packages/ipykernel_launcher.py:2: RuntimeWarning: divide by zero encountered in log\n",
      "  \n",
      "/Users/thomascurran/anaconda/lib/python3.6/site-packages/ipykernel_launcher.py:3: RuntimeWarning: divide by zero encountered in log\n",
      "  This is separate from the ipykernel package so we can avoid doing imports until\n"
     ]
    }
   ],
   "source": [
    "high_school2[['AvgIncome', 'AvgPropValADM','AvgTeacherSalary']] = np.log(high_school2[['AvgIncome', 'AvgPropValADM','AvgTeacherSalary']])\n",
    "middle_school2[['AvgIncome', 'AvgPropValADM','AvgTeacherSalary']] = np.log(middle_school2[['AvgIncome', 'AvgPropValADM','AvgTeacherSalary']])\n",
    "elementary_school2[['AvgIncome', 'AvgPropValADM','AvgTeacherSalary']] = np.log(elementary_school2[['AvgIncome', 'AvgPropValADM','AvgTeacherSalary']])\n"
   ]
  },
  {
   "cell_type": "code",
   "execution_count": 26,
   "metadata": {
    "collapsed": true
   },
   "outputs": [],
   "source": [
    "elementary_school2.to_csv(\"final_es.csv\")\n",
    "middle_school2.to_csv(\"final_ms.csv\")\n",
    "high_school2.to_csv(\"final_hs.csv\")"
   ]
  },
  {
   "cell_type": "code",
   "execution_count": 27,
   "metadata": {},
   "outputs": [
    {
     "data": {
      "text/plain": [
       "Year                                 0\n",
       "CountyName                           0\n",
       "DistrictName                         0\n",
       "SchoolName                           0\n",
       "SchoolCode                           0\n",
       "IndexScore                           0\n",
       "LetterGrade                          0\n",
       "DistrictCode                         0\n",
       "AvgIncome                            0\n",
       "AvgPropValADM                        0\n",
       "Unemployment                         0\n",
       "PovertyRate                          0\n",
       "SingleParentFam                      0\n",
       "FRL                                  0\n",
       "College                              0\n",
       "HighSchool                           0\n",
       "BelowHS                              0\n",
       "FallEnrollment                       0\n",
       "NonSpEdTeachers                      0\n",
       "AvgTeacherSalary                     0\n",
       "AdvancedDegrees                      0\n",
       "AvgYrsExperience                     0\n",
       "SpEdTeachersFTE                      0\n",
       "CounselorsFTE                        0\n",
       "OtherStaffFTE                        0\n",
       "AdministratorsFTE                    0\n",
       "EOI_Algebra_Below_Satisfactory       0\n",
       "EOI_Algebra_Satisfactory             0\n",
       "EOI_AlgebraII_Advanced               0\n",
       "EOI_AlgebraII_Below_Satisfactory     0\n",
       "                                    ..\n",
       "SocialStudies_ExamCounty             0\n",
       "SocialStudies_GrowthIndex            0\n",
       "Writing_ExamCounty                   0\n",
       "Writing_GrowthIndex                  0\n",
       "Overall_ExamCounty                   0\n",
       "Overall_GrowthIndex                  0\n",
       "ELA_ExamCount_bq                     0\n",
       "ELA_GrowthIndex_bq                   0\n",
       "Math_ExamCount_bq                    0\n",
       "Math_GrowthIndex_bq                  0\n",
       "OverallExamCount_bq                  0\n",
       "OverallGrowthIndex_bq                0\n",
       "AttendenceRate                       0\n",
       "DropOutRate                          0\n",
       "DropOutRate_Bonus                    0\n",
       "AP_participationIndex                0\n",
       "AP_PerformanceIndex                  0\n",
       "AP_Bonus                             0\n",
       "GradRate                             0\n",
       "GradRate_Bonus                       0\n",
       "LowPerfm_Grade8                      0\n",
       "LowPerfm_Grade8_Bonus                0\n",
       "CollegeEntranceExam_Participation    0\n",
       "CollegeEntranceExam_Performance      0\n",
       "CollegeEntranceExam_Bonus            0\n",
       "EOIPerformanceRate                   0\n",
       "EOIPerformanceRate_Bonus             0\n",
       "AchievedGrowthTarget                 0\n",
       "AchievedGrowthTarget_Bonus           0\n",
       "LetterGradeGroup                     0\n",
       "Length: 87, dtype: int64"
      ]
     },
     "execution_count": 27,
     "metadata": {},
     "output_type": "execute_result"
    }
   ],
   "source": [
    "high_school2.isna().sum()"
   ]
  },
  {
   "cell_type": "code",
   "execution_count": 28,
   "metadata": {},
   "outputs": [
    {
     "data": {
      "text/plain": [
       "Year                                 0\n",
       "CountyName                           0\n",
       "DistrictName                         0\n",
       "SchoolName                           0\n",
       "SchoolCode                           0\n",
       "IndexScore                           0\n",
       "LetterGrade                          0\n",
       "DistrictCode                         0\n",
       "AvgIncome                            0\n",
       "AvgPropValADM                        0\n",
       "Unemployment                         0\n",
       "PovertyRate                          0\n",
       "SingleParentFam                      0\n",
       "FRL                                  0\n",
       "College                              0\n",
       "HighSchool                           0\n",
       "BelowHS                              0\n",
       "FallEnrollment                       0\n",
       "NonSpEdTeachers                      0\n",
       "AvgTeacherSalary                     0\n",
       "AdvancedDegrees                      0\n",
       "AvgYrsExperience                     0\n",
       "SpEdTeachersFTE                      0\n",
       "CounselorsFTE                        0\n",
       "OtherStaffFTE                        0\n",
       "AdministratorsFTE                    0\n",
       "EOI_Algebra_Below_Satisfactory       0\n",
       "EOI_Algebra_Satisfactory             0\n",
       "EOI_AlgebraII_Advanced               0\n",
       "EOI_AlgebraII_Below_Satisfactory     0\n",
       "                                    ..\n",
       "SocialStudies_ExamCounty             0\n",
       "SocialStudies_GrowthIndex            0\n",
       "Writing_ExamCounty                   0\n",
       "Writing_GrowthIndex                  0\n",
       "Overall_ExamCounty                   0\n",
       "Overall_GrowthIndex                  0\n",
       "ELA_ExamCount_bq                     0\n",
       "ELA_GrowthIndex_bq                   0\n",
       "Math_ExamCount_bq                    0\n",
       "Math_GrowthIndex_bq                  0\n",
       "OverallExamCount_bq                  0\n",
       "OverallGrowthIndex_bq                0\n",
       "AttendenceRate                       0\n",
       "DropOutRate                          0\n",
       "DropOutRate_Bonus                    0\n",
       "AP_participationIndex                0\n",
       "AP_PerformanceIndex                  0\n",
       "AP_Bonus                             0\n",
       "GradRate                             0\n",
       "GradRate_Bonus                       0\n",
       "LowPerfm_Grade8                      0\n",
       "LowPerfm_Grade8_Bonus                0\n",
       "CollegeEntranceExam_Participation    0\n",
       "CollegeEntranceExam_Performance      0\n",
       "CollegeEntranceExam_Bonus            0\n",
       "EOIPerformanceRate                   0\n",
       "EOIPerformanceRate_Bonus             0\n",
       "AchievedGrowthTarget                 0\n",
       "AchievedGrowthTarget_Bonus           0\n",
       "LetterGradeGroup                     0\n",
       "Length: 87, dtype: int64"
      ]
     },
     "execution_count": 28,
     "metadata": {},
     "output_type": "execute_result"
    }
   ],
   "source": [
    "high_school2.isna().sum()"
   ]
  },
  {
   "cell_type": "code",
   "execution_count": 29,
   "metadata": {
    "collapsed": true
   },
   "outputs": [],
   "source": [
    "hs_scale = high_school2.copy()"
   ]
  },
  {
   "cell_type": "code",
   "execution_count": 30,
   "metadata": {
    "collapsed": true
   },
   "outputs": [],
   "source": [
    "from sklearn.preprocessing import scale"
   ]
  },
  {
   "cell_type": "code",
   "execution_count": 108,
   "metadata": {},
   "outputs": [
    {
     "name": "stdout",
     "output_type": "stream",
     "text": [
      "0 Year\n",
      "1 CountyName\n",
      "2 DistrictName\n",
      "3 SchoolName\n",
      "4 SchoolCode\n",
      "5 IndexScore\n",
      "6 LetterGrade\n",
      "7 DistrictCode\n",
      "8 AvgIncome\n",
      "9 AvgPropValADM\n",
      "10 Unemployment\n",
      "11 PovertyRate\n",
      "12 SingleParentFam\n",
      "13 FRL\n",
      "14 College\n",
      "15 HighSchool\n",
      "16 BelowHS\n",
      "17 FallEnrollment\n",
      "18 NonSpEdTeachers\n",
      "19 AvgTeacherSalary\n",
      "20 AdvancedDegrees\n",
      "21 AvgYrsExperience\n",
      "22 SpEdTeachersFTE\n",
      "23 CounselorsFTE\n",
      "24 OtherStaffFTE\n",
      "25 AdministratorsFTE\n",
      "26 Hispanic%\n",
      "27 NativeAmerican%\n",
      "28 Asian%\n",
      "29 AfricanAmerican%\n",
      "30 PacificIslander%\n",
      "31 White%\n",
      "32 TwoRaces%\n",
      "33 6_Math_Below_Satisfactory\n",
      "34 6_Math_Satisfactory\n",
      "35 6_Reading_Advanced\n",
      "36 6_Reading_Below_Satisfactory\n",
      "37 6_Reading_Satisfactory\n",
      "38 7_Geography_Advanced\n",
      "39 7_Geography_Below_Satisfactory\n",
      "40 7_Geography_Satisfactory\n",
      "41 7_Math_Advanced\n",
      "42 7_Math_Below_Satisfactory\n",
      "43 7_Math_Satisfactory\n",
      "44 7_Reading_Advanced\n",
      "45 7_Reading_Below_Satisfactory\n",
      "46 7_Reading_Satisfactory\n",
      "47 8_History_Advanced\n",
      "48 8_History_Below_Satisfactory\n",
      "49 8_History_Satisfactory\n",
      "50 8_Math_Advanced\n",
      "51 8_Math_Below_Satisfactory\n",
      "52 8_Math_Satisfactory\n",
      "53 8_Reading_Advanced\n",
      "54 8_Reading_Below_Satisfactory\n",
      "55 8_Reading_Satisfactory\n",
      "56 8_Science_Advanced\n",
      "57 8_Science_Below_Satisfactory\n",
      "58 8_Science_Satisfactory\n",
      "59 8_Writing_Advanced\n",
      "60 8_Writing_Below_Satisfactory\n",
      "61 8_Writing_Satisfactory\n",
      "62 Performance_Multiplier\n",
      "63 GrowthMultiplier\n",
      "64 BottomGrowth_Multiplier\n",
      "65 TotalBonusPoints\n",
      "66 OveralSchoolGrade\n",
      "67 ELA_ExamCounty\n",
      "68 ELA_GrowthIndex\n",
      "69 Math_ExamCounty\n",
      "70 Math_GrowthIndex\n",
      "71 Science_ExamCounty\n",
      "72 Science_GrowthIndex\n",
      "73 SocialStudies_ExamCounty\n",
      "74 SocialStudies_GrowthIndex\n",
      "75 Writing_ExamCounty\n",
      "76 Writing_GrowthIndex\n",
      "77 Overall_ExamCounty\n",
      "78 Overall_GrowthIndex\n",
      "79 ELA_ExamCount_bq\n",
      "80 ELA_GrowthIndex_bq\n",
      "81 Math_ExamCount_bq\n",
      "82 Math_GrowthIndex_bq\n",
      "83 OverallExamCount_bq\n",
      "84 OverallGrowthIndex_bq\n",
      "85 AttendenceRate\n",
      "86 DropOutRate\n",
      "87 DropOutRate_Bonus\n",
      "88 LowPerfm_Grade8\n",
      "89 LowPerfm_Grade8_Bonus\n",
      "90 CollegeEntranceExam_Performance\n",
      "91 CollegeEntranceExam_Bonus\n",
      "92 EOIPerformanceRate\n",
      "93 EOIPerformanceRate_Bonus\n",
      "94 AchievedGrowthTarget\n",
      "95 AchievedGrowthTarget_Bonus\n",
      "96 LetterGradeGroup\n"
     ]
    }
   ],
   "source": [
    "ms3 = middle_school2.copy()\n",
    "\n",
    "ms3.drop('SchoolType', axis=1,inplace = True)\n",
    "\n",
    "'''drop_cols_ms =np.array(range(92,113))\n",
    "drop_cols_ms2 =np.array(range(34,63))\n",
    "\n",
    "ms3 = ms3.drop(ms3.columns[drop_cols_ms], axis = 1)\n",
    "ms3 = ms3.drop(ms3.columns[drop_cols_ms2], axis = 1)\n",
    "\n",
    "ms3.drop(['OverallLetterGrade','SchoolType',\n",
    "          'Math_LetterGrade',\n",
    "                     'AP_participationIndex',\n",
    "                     'AP_PerformanceIndex',\n",
    "                     'AP_Bonus',\n",
    "          'Science_LetterGrade','Writing_LetterGrade',\n",
    "           'SocialStudies_LetterGrade',\n",
    "           'OverallLetterGrade_bq',\n",
    "           'Math_LetterGrade_bq',\n",
    "           'ELA_LetterGradeas_bq','CollegeEntranceExam_Participation',\n",
    "                     'GradRate','GradRate_Bonus',\n",
    "                     'AttendenceRate_Bonus','Overall_LetterGrade', 'ELA_LetterGrade'], axis = 1, inplace = True)\n",
    "'''\n",
    "\n",
    "for i, c in enumerate(ms3):\n",
    "    print(i,c)"
   ]
  },
  {
   "cell_type": "code",
   "execution_count": 109,
   "metadata": {},
   "outputs": [
    {
     "name": "stdout",
     "output_type": "stream",
     "text": [
      "8 AvgIncome\n",
      "9 AvgPropValADM\n",
      "10 Unemployment\n",
      "11 PovertyRate\n",
      "12 SingleParentFam\n",
      "13 FRL\n",
      "14 College\n",
      "15 HighSchool\n",
      "16 BelowHS\n",
      "17 FallEnrollment\n",
      "18 NonSpEdTeachers\n",
      "19 AvgTeacherSalary\n",
      "20 AdvancedDegrees\n",
      "21 AvgYrsExperience\n",
      "22 SpEdTeachersFTE\n",
      "23 CounselorsFTE\n",
      "24 OtherStaffFTE\n",
      "25 AdministratorsFTE\n",
      "26 Hispanic%\n",
      "27 NativeAmerican%\n",
      "28 Asian%\n",
      "29 AfricanAmerican%\n",
      "30 PacificIslander%\n",
      "31 White%\n",
      "32 TwoRaces%\n",
      "33 6_Math_Below_Satisfactory\n",
      "34 6_Math_Satisfactory\n",
      "35 6_Reading_Advanced\n",
      "36 6_Reading_Below_Satisfactory\n",
      "37 6_Reading_Satisfactory\n",
      "38 7_Geography_Advanced\n",
      "39 7_Geography_Below_Satisfactory\n",
      "40 7_Geography_Satisfactory\n",
      "41 7_Math_Advanced\n",
      "42 7_Math_Below_Satisfactory\n",
      "43 7_Math_Satisfactory\n",
      "44 7_Reading_Advanced\n",
      "45 7_Reading_Below_Satisfactory\n",
      "46 7_Reading_Satisfactory\n",
      "47 8_History_Advanced\n",
      "48 8_History_Below_Satisfactory\n",
      "49 8_History_Satisfactory\n",
      "50 8_Math_Advanced\n",
      "51 8_Math_Below_Satisfactory\n",
      "52 8_Math_Satisfactory\n",
      "53 8_Reading_Advanced\n",
      "54 8_Reading_Below_Satisfactory\n",
      "55 8_Reading_Satisfactory\n",
      "56 8_Science_Advanced\n",
      "57 8_Science_Below_Satisfactory\n",
      "58 8_Science_Satisfactory\n",
      "59 8_Writing_Advanced\n",
      "60 8_Writing_Below_Satisfactory\n",
      "61 8_Writing_Satisfactory\n",
      "62 Performance_Multiplier\n",
      "63 GrowthMultiplier\n",
      "64 BottomGrowth_Multiplier\n",
      "65 TotalBonusPoints\n",
      "66 OveralSchoolGrade\n",
      "67 ELA_ExamCounty\n",
      "68 ELA_GrowthIndex\n",
      "69 Math_ExamCounty\n",
      "70 Math_GrowthIndex\n",
      "71 Science_ExamCounty\n",
      "72 Science_GrowthIndex\n",
      "73 SocialStudies_ExamCounty\n",
      "74 SocialStudies_GrowthIndex\n",
      "75 Writing_ExamCounty\n",
      "76 Writing_GrowthIndex\n",
      "77 Overall_ExamCounty\n",
      "78 Overall_GrowthIndex\n",
      "79 ELA_ExamCount_bq\n",
      "80 ELA_GrowthIndex_bq\n",
      "81 Math_ExamCount_bq\n",
      "82 Math_GrowthIndex_bq\n",
      "83 OverallExamCount_bq\n",
      "84 OverallGrowthIndex_bq\n",
      "85 AttendenceRate\n",
      "86 DropOutRate\n",
      "87 DropOutRate_Bonus\n",
      "88 LowPerfm_Grade8\n",
      "89 LowPerfm_Grade8_Bonus\n",
      "90 CollegeEntranceExam_Performance\n",
      "91 CollegeEntranceExam_Bonus\n",
      "92 EOIPerformanceRate\n",
      "93 EOIPerformanceRate_Bonus\n",
      "94 AchievedGrowthTarget\n",
      "95 AchievedGrowthTarget_Bonus\n"
     ]
    }
   ],
   "source": [
    "for i in range(8,96):\n",
    "    print(i, ms3.columns[i])\n",
    "    scale(ms3.iloc[:,i], axis = 0, with_mean = True, copy = False)"
   ]
  },
  {
   "cell_type": "code",
   "execution_count": 113,
   "metadata": {
    "scrolled": false
   },
   "outputs": [],
   "source": [
    "ms3.to_csv(\"ms3.csv\")"
   ]
  },
  {
   "cell_type": "code",
   "execution_count": null,
   "metadata": {
    "collapsed": true
   },
   "outputs": [],
   "source": []
  }
 ],
 "metadata": {
  "kernelspec": {
   "display_name": "Python 3",
   "language": "python",
   "name": "python3"
  },
  "language_info": {
   "codemirror_mode": {
    "name": "ipython",
    "version": 3
   },
   "file_extension": ".py",
   "mimetype": "text/x-python",
   "name": "python",
   "nbconvert_exporter": "python",
   "pygments_lexer": "ipython3",
   "version": "3.6.1"
  }
 },
 "nbformat": 4,
 "nbformat_minor": 2
}
