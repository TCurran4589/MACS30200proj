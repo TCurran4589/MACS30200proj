{
  "cells": [
    {
      "cell_type": "code",
      "source": [
        "import pandas as pd\n",
        "import matplotlib.pyplot as plt\n",
        "import numpy as np\n",
        "from sklearn.preprocessing import Imputer\n",
        "from scipy.stats import mode"
      ],
      "outputs": [],
      "execution_count": 2,
      "metadata": {
        "collapsed": false,
        "outputHidden": false,
        "inputHidden": false
      }
    },
    {
      "cell_type": "code",
      "source": [
        "af_data = pd.read_csv(\"/Users/thomascurran/Desktop/MACS Final Project/Data/final_project_data/AF_Data.csv\")\n",
        "descriptors = pd.read_csv(\"/Users/thomascurran/Desktop/MACS Final Project/Data/final_project_data/Descriptors_Census.csv\")\n",
        "enrollment = pd.read_csv(\"/Users/thomascurran/Desktop/MACS Final Project/Data/final_project_data/Enrollment.csv\")\n",
        "test_scores = pd.read_csv(\"/Users/thomascurran/Desktop/MACS Final Project/Data/final_project_data/school_test_scores(14-16).csv\")"
      ],
      "outputs": [],
      "execution_count": 34,
      "metadata": {
        "collapsed": false,
        "outputHidden": false,
        "inputHidden": false
      }
    },
    {
      "cell_type": "code",
      "source": [
        "df = pd.merge(af_data, \n",
        "              descriptors, \n",
        "              on = [\"SchoolCode\", \"Year\"], \n",
        "              how = \"inner\").drop([\"Site\", \"DistrictCode\"], axis = 1).rename(columns = {\"IndexScore.1\":\"Performance_IndexScore\",\n",
        "                                                                                        \"LetteGrade\":\"LetterGrade\",\n",
        "                                                                                        \"LetteGrade.1\":\"Performance_LetterGrade\"})"
      ],
      "outputs": [],
      "execution_count": 35,
      "metadata": {
        "collapsed": false,
        "outputHidden": false,
        "inputHidden": false
      }
    },
    {
      "cell_type": "code",
      "source": [
        "df2 = pd.merge(df, enrollment, on = [\"SchoolCode\", \"Year\"], \n",
        "               how = \"inner\").drop(\"SchoolName_y\",axis = 1).rename(columns = {\"SchoolName_x\":\"SchoolName\"})"
      ],
      "outputs": [],
      "execution_count": 36,
      "metadata": {
        "collapsed": false,
        "outputHidden": false,
        "inputHidden": false
      }
    },
    {
      "cell_type": "code",
      "source": [
        "df3 = pd.merge(df2, test_scores, on = ['SchoolCode', 'Year'], how = 'left').drop('Site', axis = 1)"
      ],
      "outputs": [],
      "execution_count": 43,
      "metadata": {
        "collapsed": false,
        "outputHidden": false,
        "inputHidden": false
      }
    },
    {
      "cell_type": "code",
      "source": [
        "df3.to_csv(\"/Users/thomascurran/Desktop/MACS Final Project/Data/final_project_data/df3.csv\")"
      ],
      "outputs": [],
      "execution_count": 47,
      "metadata": {
        "collapsed": false,
        "outputHidden": false,
        "inputHidden": false
      }
    },
    {
      "cell_type": "code",
      "source": [
        "es = df3[df3['SchoolType'] == 'Elementary School']\n",
        "es.to_csv(\"/Users/thomascurran/Desktop/MACS Final Project/Data/final_project_data/es.csv\")\n",
        "\n",
        "ms = df3[df3['SchoolType'] == 'Middle School']\n",
        "ms.to_csv(\"/Users/thomascurran/Desktop/MACS Final Project/Data/final_project_data/ms.csv\")\n",
        "\n",
        "hs = df3[df3['SchoolType'] == 'High School']\n",
        "hs.to_csv(\"/Users/thomascurran/Desktop/MACS Final Project/Data/final_project_data/hs.csv\")"
      ],
      "outputs": [],
      "execution_count": 51,
      "metadata": {
        "collapsed": false,
        "outputHidden": false,
        "inputHidden": false
      }
    },
    {
      "cell_type": "code",
      "source": [
        "def cols_to_drop(df):\n",
        "    \n",
        "    #array of columns to drop\n",
        "    dropped_cols = []\n",
        "    \n",
        "    #check to see if column is completely null if the number of nulls is greater than or equal to the length of the index\n",
        "    for i, c in enumerate(df):\n",
        "        if(df[c].isna().sum() >= len(df.index)):\n",
        "            dropped_cols.append(c)\n",
        "         \n",
        "    #drop the columns from the data frame\n",
        "    df = df.drop(dropped_cols, axis = 1)\n",
        "    return(df)\n",
        "    \n",
        "\n\n"
      ],
      "outputs": [],
      "execution_count": 71,
      "metadata": {
        "collapsed": false,
        "outputHidden": false,
        "inputHidden": false
      }
    },
    {
      "cell_type": "code",
      "source": [
        "\n"
      ],
      "outputs": [],
      "execution_count": 72,
      "metadata": {
        "collapsed": false,
        "outputHidden": false,
        "inputHidden": false
      }
    },
    {
      "cell_type": "code",
      "source": [],
      "outputs": [
        {
          "output_type": "stream",
          "name": "stdout",
          "text": [
            "Index(['Year', 'CountyName', 'DistrictName', 'SchoolName', 'SchoolCode',\n",
            "       'IndexScore', 'LetterGrade', 'LetterGradeGroup', 'LowGrade',\n",
            "       'HighGrade',\n",
            "       ...\n",
            "       'EOI_EnglishII_Satisfactory', 'EOI_EnglishIII_Advanced',\n",
            "       'EOI_EnglishIII_Below_Satisfactory', 'EOI_EnglishIII_Satisfactory',\n",
            "       'EOI_Geometry_Advanced', 'EOI_Geometry_Below_Satisfactory',\n",
            "       'EOI_Geometry_Satisfactory', 'EOI_USHistory_Advanced',\n",
            "       'EOI_USHistory_Below_Satisfactory', 'EOI_USHistory_Satisfactory'],\n",
            "      dtype='object', length=112)\n"
          ]
        }
      ],
      "execution_count": 74,
      "metadata": {
        "collapsed": false,
        "outputHidden": false,
        "inputHidden": false
      }
    },
    {
      "cell_type": "code",
      "source": [],
      "outputs": [],
      "execution_count": null,
      "metadata": {
        "collapsed": false,
        "outputHidden": false,
        "inputHidden": false
      }
    }
  ],
  "metadata": {
    "kernel_info": {
      "name": "python3"
    },
    "kernelspec": {
      "name": "python3",
      "language": "python",
      "display_name": "Python 3"
    },
    "language_info": {
      "name": "python",
      "version": "3.6.5",
      "mimetype": "text/x-python",
      "codemirror_mode": {
        "name": "ipython",
        "version": 3
      },
      "pygments_lexer": "ipython3",
      "nbconvert_exporter": "python",
      "file_extension": ".py"
    },
    "nteract": {
      "version": "0.8.4"
    }
  },
  "nbformat": 4,
  "nbformat_minor": 4
}